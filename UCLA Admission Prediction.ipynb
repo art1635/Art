{
 "cells": [
  {
   "cell_type": "code",
   "execution_count": 1,
   "metadata": {},
   "outputs": [],
   "source": [
    "import numpy as np\n",
    "import pandas as pd\n",
    "from pandas import DataFrame\n",
    "import matplotlib.pyplot as plt\n",
    "import seaborn as sns\n",
    "%matplotlib inline\n",
    "import statsmodels.api as sm \n",
    "import scipy.stats as stats\n",
    "import pylab\n",
    "from statsmodels.stats.outliers_influence import variance_inflation_factor\n"
   ]
  },
  {
   "cell_type": "code",
   "execution_count": 2,
   "metadata": {},
   "outputs": [],
   "source": [
    "college = pd.read_csv('Admission_Predict.csv')"
   ]
  },
  {
   "cell_type": "code",
   "execution_count": 3,
   "metadata": {
    "scrolled": true
   },
   "outputs": [],
   "source": [
    "college['GRE_precentile'] = college['GRE Score']*100/340\n",
    "college['TOEFL_precentile'] = college['TOEFL Score']*100/120\n",
    "college['CGPA_precentile'] = college['CGPA']*100/10\n",
    "college['Cumulative']=college['University Rating']+college['SOP']+college['LOR ']\n",
    "college['cumulative_percentile'] = college.Cumulative*100/15\n",
    "college['Admit']= college['Chance of Admit ']*100\n",
    "college.drop(['GRE Score', 'TOEFL Score', 'CGPA','Research','Cumulative','Chance of Admit ','University Rating',\n",
    "             'SOP','LOR ','Serial No.'], axis = 1, inplace = True)"
   ]
  },
  {
   "cell_type": "code",
   "execution_count": 50,
   "metadata": {},
   "outputs": [],
   "source": [
    "new = college[(college.Admit>53)&(college.Admit<90)]\n"
   ]
  },
  {
   "cell_type": "code",
   "execution_count": 64,
   "metadata": {},
   "outputs": [
    {
     "data": {
      "text/html": [
       "<div>\n",
       "<style scoped>\n",
       "    .dataframe tbody tr th:only-of-type {\n",
       "        vertical-align: middle;\n",
       "    }\n",
       "\n",
       "    .dataframe tbody tr th {\n",
       "        vertical-align: top;\n",
       "    }\n",
       "\n",
       "    .dataframe thead th {\n",
       "        text-align: right;\n",
       "    }\n",
       "</style>\n",
       "<table border=\"1\" class=\"dataframe\">\n",
       "  <thead>\n",
       "    <tr style=\"text-align: right;\">\n",
       "      <th></th>\n",
       "      <th>GRE_precentile</th>\n",
       "      <th>TOEFL_precentile</th>\n",
       "      <th>CGPA_precentile</th>\n",
       "      <th>cumulative_percentile</th>\n",
       "      <th>Admit</th>\n",
       "    </tr>\n",
       "  </thead>\n",
       "  <tbody>\n",
       "    <tr>\n",
       "      <th>1</th>\n",
       "      <td>95.294118</td>\n",
       "      <td>89.166667</td>\n",
       "      <td>88.7</td>\n",
       "      <td>83.333333</td>\n",
       "      <td>76.0</td>\n",
       "    </tr>\n",
       "    <tr>\n",
       "      <th>2</th>\n",
       "      <td>92.941176</td>\n",
       "      <td>86.666667</td>\n",
       "      <td>80.0</td>\n",
       "      <td>63.333333</td>\n",
       "      <td>72.0</td>\n",
       "    </tr>\n",
       "    <tr>\n",
       "      <th>3</th>\n",
       "      <td>94.705882</td>\n",
       "      <td>91.666667</td>\n",
       "      <td>86.7</td>\n",
       "      <td>60.000000</td>\n",
       "      <td>80.0</td>\n",
       "    </tr>\n",
       "    <tr>\n",
       "      <th>4</th>\n",
       "      <td>92.352941</td>\n",
       "      <td>85.833333</td>\n",
       "      <td>82.1</td>\n",
       "      <td>46.666667</td>\n",
       "      <td>65.0</td>\n",
       "    </tr>\n",
       "    <tr>\n",
       "      <th>6</th>\n",
       "      <td>94.411765</td>\n",
       "      <td>90.833333</td>\n",
       "      <td>82.0</td>\n",
       "      <td>66.666667</td>\n",
       "      <td>75.0</td>\n",
       "    </tr>\n",
       "  </tbody>\n",
       "</table>\n",
       "</div>"
      ],
      "text/plain": [
       "   GRE_precentile  TOEFL_precentile  CGPA_precentile  cumulative_percentile  \\\n",
       "1       95.294118         89.166667             88.7              83.333333   \n",
       "2       92.941176         86.666667             80.0              63.333333   \n",
       "3       94.705882         91.666667             86.7              60.000000   \n",
       "4       92.352941         85.833333             82.1              46.666667   \n",
       "6       94.411765         90.833333             82.0              66.666667   \n",
       "\n",
       "   Admit  \n",
       "1   76.0  \n",
       "2   72.0  \n",
       "3   80.0  \n",
       "4   65.0  \n",
       "6   75.0  "
      ]
     },
     "execution_count": 64,
     "metadata": {},
     "output_type": "execute_result"
    }
   ],
   "source": [
    "new.head()"
   ]
  },
  {
   "cell_type": "code",
   "execution_count": 51,
   "metadata": {},
   "outputs": [
    {
     "data": {
      "text/plain": [
       "<matplotlib.axes._subplots.AxesSubplot at 0x23825ffb6a0>"
      ]
     },
     "execution_count": 51,
     "metadata": {},
     "output_type": "execute_result"
    },
    {
     "data": {
      "image/png": "[encoded data removed]",
      "text/plain": [
       "<Figure size 432x288 with 1 Axes>"
      ]
     },
     "metadata": {},
     "output_type": "display_data"
    }
   ],
   "source": [
    "sns.boxplot(new.Admit)"
   ]
  },
  {
   "cell_type": "code",
   "execution_count": 52,
   "metadata": {},
   "outputs": [],
   "source": [
    "from sklearn.preprocessing import PolynomialFeatures, StandardScaler\n",
    "scaler = StandardScaler()\n",
    "x = new.drop(['Admit'], axis = 1)\n",
    "x = sm.add_constant(x)\n",
    "#scaled_x = scaler.fit_transform(x)\n",
    "#pf = PolynomialFeatures(degree=2)\n",
    "#X = pf.fit_transform(x)"
   ]
  },
  {
   "cell_type": "code",
   "execution_count": 53,
   "metadata": {
    "scrolled": true
   },
   "outputs": [
    {
     "name": "stdout",
     "output_type": "stream",
     "text": [
      "0.7046974377386601\n"
     ]
    }
   ],
   "source": [
    "y = new.Admit\n",
    "from sklearn.model_selection import train_test_split\n",
    "xtrain,xtest, ytrain, ytest = train_test_split(x,y,test_size = 0.30, random_state = 123)\n",
    "model = sm.OLS(ytest,xtest).fit()\n",
    "pred_model = model.predict(xtest)\n",
    "fittedvalues = model.fittedvalues\n",
    "residual = model.resid\n",
    "rsquared = model.rsquared\n",
    "print(rsquared)"
   ]
  },
  {
   "cell_type": "code",
   "execution_count": 72,
   "metadata": {},
   "outputs": [
    {
     "data": {
      "text/plain": [
       "<matplotlib.axes._subplots.AxesSubplot at 0x2382679e5f8>"
      ]
     },
     "execution_count": 72,
     "metadata": {},
     "output_type": "execute_result"
    },
    {
     "data": {
      "image/png": "[encoded data removed]",
      "text/plain": [
       "<Figure size 432x288 with 1 Axes>"
      ]
     },
     "metadata": {},
     "output_type": "display_data"
    }
   ],
   "source": [
    "sns.distplot((ytest))"
   ]
  },
  {
   "cell_type": "code",
   "execution_count": null,
   "metadata": {},
   "outputs": [],
   "source": []
  },
  {
   "cell_type": "code",
   "execution_count": null,
   "metadata": {},
   "outputs": [],
   "source": []
  },
  {
   "cell_type": "markdown",
   "metadata": {},
   "source": [
    "# Test of linearity"
   ]
  },
  {
   "cell_type": "code",
   "execution_count": 55,
   "metadata": {},
   "outputs": [
    {
     "data": {
      "image/png": "[encoded data removed]",
      "text/plain": [
       "<Figure size 432x288 with 1 Axes>"
      ]
     },
     "metadata": {},
     "output_type": "display_data"
    }
   ],
   "source": [
    "sns.set(style = 'whitegrid')\n",
    "ax =sns.residplot(fittedvalues, residual, color='red',lowess = True) #local regression smoothing line, if false, no line will be seen\n",
    "ax.set(xlabel ='Fitted Values', ylabel ='Residuals',title = 'Residual Plot')\n",
    "plt.show()"
   ]
  },
  {
   "cell_type": "code",
   "execution_count": 56,
   "metadata": {},
   "outputs": [
    {
     "data": {
      "text/plain": [
       "(0.7909675451755781, 0.7780101623113258)"
      ]
     },
     "execution_count": 56,
     "metadata": {},
     "output_type": "execute_result"
    }
   ],
   "source": [
    "from statsmodels.stats.api import linear_rainbow, het_goldfeldquandt\n",
    "linear_rainbow(model)"
   ]
  },
  {
   "cell_type": "markdown",
   "metadata": {},
   "source": [
    "from rainbow test, Linearity test shows no pattern and hence data is linear "
   ]
  },
  {
   "cell_type": "markdown",
   "metadata": {},
   "source": [
    "# Q-Q plot"
   ]
  },
  {
   "cell_type": "code",
   "execution_count": 57,
   "metadata": {},
   "outputs": [
    {
     "data": {
      "image/png": "[encoded data removed]",
      "text/plain": [
       "<Figure size 432x288 with 1 Axes>"
      ]
     },
     "metadata": {},
     "output_type": "display_data"
    }
   ],
   "source": [
    "st_residual = model.get_influence().resid_studentized_internal\n",
    "stats.probplot(st_residual,dist = 'norm', plot = pylab)\n",
    "plt.show()"
   ]
  },
  {
   "cell_type": "code",
   "execution_count": 58,
   "metadata": {},
   "outputs": [
    {
     "data": {
      "text/plain": [
       "(0.9773344993591309, 0.1172342300415039)"
      ]
     },
     "execution_count": 58,
     "metadata": {},
     "output_type": "execute_result"
    }
   ],
   "source": [
    "from scipy.stats import shapiro\n",
    "shapiro(model.resid)"
   ]
  },
  {
   "cell_type": "code",
   "execution_count": 59,
   "metadata": {},
   "outputs": [
    {
     "data": {
      "text/plain": [
       "(0.5221513421379208, 0.9785458741668435, 'increasing')"
      ]
     },
     "execution_count": 59,
     "metadata": {},
     "output_type": "execute_result"
    }
   ],
   "source": [
    "het_goldfeldquandt(ytest, model.model.exog)"
   ]
  },
  {
   "cell_type": "code",
   "execution_count": 61,
   "metadata": {
    "scrolled": true
   },
   "outputs": [
    {
     "data": {
      "text/html": [
       "<table class=\"simpletable\">\n",
       "<caption>OLS Regression Results</caption>\n",
       "<tr>\n",
       "  <th>Dep. Variable:</th>          <td>Admit</td>      <th>  R-squared:         </th> <td>   0.705</td>\n",
       "</tr>\n",
       "<tr>\n",
       "  <th>Model:</th>                   <td>OLS</td>       <th>  Adj. R-squared:    </th> <td>   0.691</td>\n",
       "</tr>\n",
       "<tr>\n",
       "  <th>Method:</th>             <td>Least Squares</td>  <th>  F-statistic:       </th> <td>   50.71</td>\n",
       "</tr>\n",
       "<tr>\n",
       "  <th>Date:</th>             <td>Mon, 25 Mar 2019</td> <th>  Prob (F-statistic):</th> <td>9.48e-22</td>\n",
       "</tr>\n",
       "<tr>\n",
       "  <th>Time:</th>                 <td>17:17:53</td>     <th>  Log-Likelihood:    </th> <td> -267.97</td>\n",
       "</tr>\n",
       "<tr>\n",
       "  <th>No. Observations:</th>      <td>    90</td>      <th>  AIC:               </th> <td>   545.9</td>\n",
       "</tr>\n",
       "<tr>\n",
       "  <th>Df Residuals:</th>          <td>    85</td>      <th>  BIC:               </th> <td>   558.4</td>\n",
       "</tr>\n",
       "<tr>\n",
       "  <th>Df Model:</th>              <td>     4</td>      <th>                     </th>     <td> </td>   \n",
       "</tr>\n",
       "<tr>\n",
       "  <th>Covariance Type:</th>      <td>nonrobust</td>    <th>                     </th>     <td> </td>   \n",
       "</tr>\n",
       "</table>\n",
       "<table class=\"simpletable\">\n",
       "<tr>\n",
       "            <td></td>               <th>coef</th>     <th>std err</th>      <th>t</th>      <th>P>|t|</th>  <th>[0.025</th>    <th>0.975]</th>  \n",
       "</tr>\n",
       "<tr>\n",
       "  <th>const</th>                 <td>  -88.6559</td> <td>   18.479</td> <td>   -4.798</td> <td> 0.000</td> <td> -125.398</td> <td>  -51.914</td>\n",
       "</tr>\n",
       "<tr>\n",
       "  <th>GRE_precentile</th>        <td>    0.8628</td> <td>    0.266</td> <td>    3.241</td> <td> 0.002</td> <td>    0.334</td> <td>    1.392</td>\n",
       "</tr>\n",
       "<tr>\n",
       "  <th>TOEFL_precentile</th>      <td>    0.2426</td> <td>    0.213</td> <td>    1.139</td> <td> 0.258</td> <td>   -0.181</td> <td>    0.666</td>\n",
       "</tr>\n",
       "<tr>\n",
       "  <th>CGPA_precentile</th>       <td>    0.5721</td> <td>    0.188</td> <td>    3.040</td> <td> 0.003</td> <td>    0.198</td> <td>    0.946</td>\n",
       "</tr>\n",
       "<tr>\n",
       "  <th>cumulative_percentile</th> <td>    0.1602</td> <td>    0.043</td> <td>    3.756</td> <td> 0.000</td> <td>    0.075</td> <td>    0.245</td>\n",
       "</tr>\n",
       "</table>\n",
       "<table class=\"simpletable\">\n",
       "<tr>\n",
       "  <th>Omnibus:</th>       <td> 6.478</td> <th>  Durbin-Watson:     </th> <td>   1.793</td>\n",
       "</tr>\n",
       "<tr>\n",
       "  <th>Prob(Omnibus):</th> <td> 0.039</td> <th>  Jarque-Bera (JB):  </th> <td>   5.854</td>\n",
       "</tr>\n",
       "<tr>\n",
       "  <th>Skew:</th>          <td>-0.541</td> <th>  Prob(JB):          </th> <td>  0.0536</td>\n",
       "</tr>\n",
       "<tr>\n",
       "  <th>Kurtosis:</th>      <td> 3.624</td> <th>  Cond. No.          </th> <td>6.02e+03</td>\n",
       "</tr>\n",
       "</table><br/><br/>Warnings:<br/>[1] Standard Errors assume that the covariance matrix of the errors is correctly specified.<br/>[2] The condition number is large, 6.02e+03. This might indicate that there are<br/>strong multicollinearity or other numerical problems."
      ],
      "text/plain": [
       "<class 'statsmodels.iolib.summary.Summary'>\n",
       "\"\"\"\n",
       "                            OLS Regression Results                            \n",
       "==============================================================================\n",
       "Dep. Variable:                  Admit   R-squared:                       0.705\n",
       "Model:                            OLS   Adj. R-squared:                  0.691\n",
       "Method:                 Least Squares   F-statistic:                     50.71\n",
       "Date:                Mon, 25 Mar 2019   Prob (F-statistic):           9.48e-22\n",
       "Time:                        17:17:53   Log-Likelihood:                -267.97\n",
       "No. Observations:                  90   AIC:                             545.9\n",
       "Df Residuals:                      85   BIC:                             558.4\n",
       "Df Model:                           4                                         \n",
       "Covariance Type:            nonrobust                                         \n",
       "=========================================================================================\n",
       "                            coef    std err          t      P>|t|      [0.025      0.975]\n",
       "-----------------------------------------------------------------------------------------\n",
       "const                   -88.6559     18.479     -4.798      0.000    -125.398     -51.914\n",
       "GRE_precentile            0.8628      0.266      3.241      0.002       0.334       1.392\n",
       "TOEFL_precentile          0.2426      0.213      1.139      0.258      -0.181       0.666\n",
       "CGPA_precentile           0.5721      0.188      3.040      0.003       0.198       0.946\n",
       "cumulative_percentile     0.1602      0.043      3.756      0.000       0.075       0.245\n",
       "==============================================================================\n",
       "Omnibus:                        6.478   Durbin-Watson:                   1.793\n",
       "Prob(Omnibus):                  0.039   Jarque-Bera (JB):                5.854\n",
       "Skew:                          -0.541   Prob(JB):                       0.0536\n",
       "Kurtosis:                       3.624   Cond. No.                     6.02e+03\n",
       "==============================================================================\n",
       "\n",
       "Warnings:\n",
       "[1] Standard Errors assume that the covariance matrix of the errors is correctly specified.\n",
       "[2] The condition number is large, 6.02e+03. This might indicate that there are\n",
       "strong multicollinearity or other numerical problems.\n",
       "\"\"\""
      ]
     },
     "execution_count": 61,
     "metadata": {},
     "output_type": "execute_result"
    }
   ],
   "source": [
    "model.summary()"
   ]
  },
  {
   "cell_type": "code",
   "execution_count": 63,
   "metadata": {},
   "outputs": [
    {
     "data": {
      "text/html": [
       "<div>\n",
       "<style scoped>\n",
       "    .dataframe tbody tr th:only-of-type {\n",
       "        vertical-align: middle;\n",
       "    }\n",
       "\n",
       "    .dataframe tbody tr th {\n",
       "        vertical-align: top;\n",
       "    }\n",
       "\n",
       "    .dataframe thead th {\n",
       "        text-align: right;\n",
       "    }\n",
       "</style>\n",
       "<table border=\"1\" class=\"dataframe\">\n",
       "  <thead>\n",
       "    <tr style=\"text-align: right;\">\n",
       "      <th></th>\n",
       "      <th>VIF Values</th>\n",
       "    </tr>\n",
       "  </thead>\n",
       "  <tbody>\n",
       "    <tr>\n",
       "      <th>0</th>\n",
       "      <td>1482.841379</td>\n",
       "    </tr>\n",
       "    <tr>\n",
       "      <th>1</th>\n",
       "      <td>2.379697</td>\n",
       "    </tr>\n",
       "    <tr>\n",
       "      <th>2</th>\n",
       "      <td>2.452773</td>\n",
       "    </tr>\n",
       "    <tr>\n",
       "      <th>3</th>\n",
       "      <td>2.886035</td>\n",
       "    </tr>\n",
       "    <tr>\n",
       "      <th>4</th>\n",
       "      <td>1.910190</td>\n",
       "    </tr>\n",
       "  </tbody>\n",
       "</table>\n",
       "</div>"
      ],
      "text/plain": [
       "    VIF Values\n",
       "0  1482.841379\n",
       "1     2.379697\n",
       "2     2.452773\n",
       "3     2.886035\n",
       "4     1.910190"
      ]
     },
     "execution_count": 63,
     "metadata": {},
     "output_type": "execute_result"
    }
   ],
   "source": [
    "from statsmodels.stats.outliers_influence import variance_inflation_factor\n",
    "vif = pd.DataFrame()\n",
    "vif['VIF Values'] = [variance_inflation_factor(x.values,col) for col in range(0,x.shape[1])]\n",
    "vif"
   ]
  },
  {
   "cell_type": "code",
   "execution_count": null,
   "metadata": {},
   "outputs": [],
   "source": []
  },
  {
   "cell_type": "code",
   "execution_count": 69,
   "metadata": {},
   "outputs": [],
   "source": [
    "data=pd.DataFrame({'const':[1],'Gre_precentile': [85], 'Toefl_precentile': [80.1], 'cumulative_percentile':[80.4],'CGPA_precentiles':[85.5]})"
   ]
  },
  {
   "cell_type": "code",
   "execution_count": 70,
   "metadata": {},
   "outputs": [
    {
     "data": {
      "text/plain": [
       "0    63.808916\n",
       "dtype: float64"
      ]
     },
     "execution_count": 70,
     "metadata": {},
     "output_type": "execute_result"
    }
   ],
   "source": [
    "model.predict(data)"
   ]
  },
  {
   "cell_type": "code",
   "execution_count": 73,
   "metadata": {},
   "outputs": [
    {
     "data": {
      "text/html": [
       "<div>\n",
       "<style scoped>\n",
       "    .dataframe tbody tr th:only-of-type {\n",
       "        vertical-align: middle;\n",
       "    }\n",
       "\n",
       "    .dataframe tbody tr th {\n",
       "        vertical-align: top;\n",
       "    }\n",
       "\n",
       "    .dataframe thead th {\n",
       "        text-align: right;\n",
       "    }\n",
       "</style>\n",
       "<table border=\"1\" class=\"dataframe\">\n",
       "  <thead>\n",
       "    <tr style=\"text-align: right;\">\n",
       "      <th></th>\n",
       "      <th>GRE_precentile</th>\n",
       "      <th>TOEFL_precentile</th>\n",
       "      <th>CGPA_precentile</th>\n",
       "      <th>cumulative_percentile</th>\n",
       "      <th>Admit</th>\n",
       "    </tr>\n",
       "  </thead>\n",
       "  <tbody>\n",
       "    <tr>\n",
       "      <th>1</th>\n",
       "      <td>95.294118</td>\n",
       "      <td>89.166667</td>\n",
       "      <td>88.7</td>\n",
       "      <td>83.333333</td>\n",
       "      <td>76.0</td>\n",
       "    </tr>\n",
       "    <tr>\n",
       "      <th>2</th>\n",
       "      <td>92.941176</td>\n",
       "      <td>86.666667</td>\n",
       "      <td>80.0</td>\n",
       "      <td>63.333333</td>\n",
       "      <td>72.0</td>\n",
       "    </tr>\n",
       "    <tr>\n",
       "      <th>3</th>\n",
       "      <td>94.705882</td>\n",
       "      <td>91.666667</td>\n",
       "      <td>86.7</td>\n",
       "      <td>60.000000</td>\n",
       "      <td>80.0</td>\n",
       "    </tr>\n",
       "    <tr>\n",
       "      <th>4</th>\n",
       "      <td>92.352941</td>\n",
       "      <td>85.833333</td>\n",
       "      <td>82.1</td>\n",
       "      <td>46.666667</td>\n",
       "      <td>65.0</td>\n",
       "    </tr>\n",
       "    <tr>\n",
       "      <th>6</th>\n",
       "      <td>94.411765</td>\n",
       "      <td>90.833333</td>\n",
       "      <td>82.0</td>\n",
       "      <td>66.666667</td>\n",
       "      <td>75.0</td>\n",
       "    </tr>\n",
       "  </tbody>\n",
       "</table>\n",
       "</div>"
      ],
      "text/plain": [
       "   GRE_precentile  TOEFL_precentile  CGPA_precentile  cumulative_percentile  \\\n",
       "1       95.294118         89.166667             88.7              83.333333   \n",
       "2       92.941176         86.666667             80.0              63.333333   \n",
       "3       94.705882         91.666667             86.7              60.000000   \n",
       "4       92.352941         85.833333             82.1              46.666667   \n",
       "6       94.411765         90.833333             82.0              66.666667   \n",
       "\n",
       "   Admit  \n",
       "1   76.0  \n",
       "2   72.0  \n",
       "3   80.0  \n",
       "4   65.0  \n",
       "6   75.0  "
      ]
     },
     "execution_count": 73,
     "metadata": {},
     "output_type": "execute_result"
    }
   ],
   "source": [
    "new.head()"
   ]
  }
 ],
 "metadata": {
  "kernelspec": {
   "display_name": "Python 3",
   "language": "python",
   "name": "python3"
  },
  "language_info": {
   "codemirror_mode": {
    "name": "ipython",
    "version": 3
   },
   "file_extension": ".py",
   "mimetype": "text/x-python",
   "name": "python",
   "nbconvert_exporter": "python",
   "pygments_lexer": "ipython3",
   "version": "3.7.1"
  }
 },
 "nbformat": 4,
 "nbformat_minor": 2
}
